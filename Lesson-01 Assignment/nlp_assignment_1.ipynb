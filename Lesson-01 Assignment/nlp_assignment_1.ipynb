{
 "cells": [
  {
   "cell_type": "markdown",
   "metadata": {},
   "source": [
    "# #理论部分"
   ]
  },
  {
   "cell_type": "markdown",
   "metadata": {},
   "source": [
    "Can you come up out 3 sceneraies which use AI methods?\n",
    "Ans:自动驾驶、知识图谱、人机对话"
   ]
  },
  {
   "cell_type": "markdown",
   "metadata": {},
   "source": [
    "How do we use Github; Why do we use Jupyter and Pycharm？\n",
    "Ans:Jupyter: 演示和学习\n",
    "   Pycharm: 大型项目的程序开发"
   ]
  },
  {
   "cell_type": "markdown",
   "metadata": {},
   "source": [
    "What's the Probability Model?\n",
    "Ans:描述变量之间关系的数学模型"
   ]
  },
  {
   "cell_type": "markdown",
   "metadata": {},
   "source": [
    "Can you came up with some sceneraies at which we could use Probability Model?\n",
    "Ans:股价预测、人民币发行和物价波动的关系、人脸识别的相似度"
   ]
  },
  {
   "cell_type": "markdown",
   "metadata": {},
   "source": [
    "4. Why do we use probability and what's the difficult points for programming based on parsing and pattern match?\n",
    "Ans:不晓得"
   ]
  },
  {
   "cell_type": "markdown",
   "metadata": {},
   "source": [
    "What's the Language Model;\n",
    "Ans:语言概率模型：计算一句文本成为一句合理表达语言的概率。概率趋向1表示该句文本是合理表达的人类语言，趋于0反之。\n",
    "    Pro（w1,w2,w3，w4） = Pro(w1|w2w3w4) * Pro(w2|w3w4) * Pro(w3|w4) * Pro(w4)"
   ]
  },
  {
   "cell_type": "markdown",
   "metadata": {},
   "source": [
    "Can you came up with some sceneraies at which we could use Language Model?\n",
    "Ans:计算生成句子的合理性、对句子中的词标注词性"
   ]
  },
  {
   "cell_type": "markdown",
   "metadata": {},
   "source": [
    "What's the 1-gram language model?\n",
    "Ans:句子中每个词出现的概率都是独立的，与前后文无关。"
   ]
  },
  {
   "cell_type": "markdown",
   "metadata": {},
   "source": [
    "What's the disadvantages and advantages of 1-gram language model;\n",
    "Ans:缺点-句子组成的不合理性增加\n",
    "   优点-计算复杂度降低"
   ]
  },
  {
   "cell_type": "markdown",
   "metadata": {},
   "source": [
    "What't the 2-gram models;\n",
    "Ans:Pro（w1,w2,w3，w4） = Pro(w1|w2) * Pro(w2|w3) * Pro(w3|w4) * Pro(w4)\n",
    "   每一个词出现的概率和该词的下一个词与有关"
   ]
  },
  {
   "cell_type": "markdown",
   "metadata": {},
   "source": [
    "# #编程实践部分"
   ]
  },
  {
   "cell_type": "markdown",
   "metadata": {},
   "source": [
    "1. 设计你自己的句子生成器"
   ]
  },
  {
   "cell_type": "code",
   "execution_count": 19,
   "metadata": {},
   "outputs": [],
   "source": [
    "#第一个语法 学生的语言\n",
    "student = \"\"\"\n",
    "student = 学生 做 作业\n",
    "学生 = 高中生 | 大学生 | 研究生 \n",
    "做 = 检查 | 阅读 | 抄写\n",
    "作业 = 试卷 | 习题\n",
    "\"\"\""
   ]
  },
  {
   "cell_type": "code",
   "execution_count": 263,
   "metadata": {},
   "outputs": [],
   "source": [
    "#第二个语法 健身房的销售人员\n",
    "salesmen = \"\"\"\n",
    "salesmen = 寒暄 询问 健身 熟悉 结尾 \n",
    "寒暄 = 称谓 您好 \n",
    "称谓 = 美女 | 帅哥 | 大爷\n",
    "询问 = 请问 | 打扰一下\n",
    "健身 = 有氧 | 有氧 健身 \n",
    "有氧 = 游泳 | 瑜伽 | 舞蹈\n",
    "舞蹈 = 拉丁 | 街舞\n",
    "熟悉 = 了解 | 体验\n",
    "结尾 = 一下么？\"\"\""
   ]
  },
  {
   "cell_type": "code",
   "execution_count": 227,
   "metadata": {},
   "outputs": [
    {
     "data": {
      "text/plain": [
       "{'salesmen': [['寒暄', '询问', '健身', '熟悉', '结尾']],\n",
       " '寒暄': [['称谓', '您好']],\n",
       " '称谓': [['美女'], ['帅哥'], ['大爷']],\n",
       " '询问': [['请问'], ['打扰一下']],\n",
       " '健身': [['有氧'], ['有氧', '健身']],\n",
       " '有氧': [['游泳'], ['瑜伽'], ['舞蹈']],\n",
       " '舞蹈': [['拉丁'], ['街舞']],\n",
       " '熟悉': [['了解'], ['体验']],\n",
       " '结尾': [['一下么？']]}"
      ]
     },
     "execution_count": 227,
     "metadata": {},
     "output_type": "execute_result"
    }
   ],
   "source": [
    "def create_grammar(grammar_string,split=\"=\",split_line = \"\\n\"):\n",
    "    grammar = dict()\n",
    "    for line in grammar_string.split(split_line):\n",
    "        if not line.strip():  continue\n",
    "        exp ,stmt = line.split(split)\n",
    "        grammar[exp.strip()] = [s.split() for s in stmt.split(\"|\")]\n",
    "    return grammar\n",
    "create_grammar(salesmen)"
   ]
  },
  {
   "cell_type": "code",
   "execution_count": 83,
   "metadata": {},
   "outputs": [],
   "source": [
    "import random\n",
    "choice = random.choice"
   ]
  },
  {
   "cell_type": "code",
   "execution_count": 200,
   "metadata": {},
   "outputs": [],
   "source": [
    "def generate(gram,target,join_str=\" \"):\n",
    "    if target not in gram : return target\n",
    "    expanded = [generate(gram,t) for t in choice(gram[target])]  #会生成None\n",
    "    return join_str.join([s if s != \"/n\" else \"\\n\" for s in expanded ])"
   ]
  },
  {
   "cell_type": "code",
   "execution_count": 222,
   "metadata": {},
   "outputs": [
    {
     "data": {
      "text/plain": [
       "'帅哥 您好 请问 游泳 瑜伽 游泳 拉丁 瑜伽 游泳 游泳 街舞 体验 一下么？'"
      ]
     },
     "execution_count": 222,
     "metadata": {},
     "output_type": "execute_result"
    }
   ],
   "source": [
    "# print(create_grammar(salesmen))\n",
    "generate(create_grammar(salesmen),\"salesmen\")   #问题：迭代选择中如何去重呢（与数字拼接无需去重不一样的情景）"
   ]
  },
  {
   "cell_type": "code",
   "execution_count": 260,
   "metadata": {},
   "outputs": [],
   "source": [
    "def generate_n(gram,target,num):\n",
    "    sentence_list = []\n",
    "    for i in range(num):\n",
    "        sentence = generate(gram,target,\"\")\n",
    "        sentence_list.append(sentence)\n",
    "#         print(\"sentence {}:{}\".format(i,sentence))\n",
    "    return sentence_list"
   ]
  },
  {
   "cell_type": "code",
   "execution_count": 243,
   "metadata": {},
   "outputs": [
    {
     "data": {
      "text/plain": [
       "['高中生抄写习题',\n",
       " '大学生阅读习题',\n",
       " '高中生检查试卷',\n",
       " '高中生抄写习题',\n",
       " '研究生抄写试卷',\n",
       " '高中生检查习题',\n",
       " '高中生检查习题',\n",
       " '大学生抄写习题',\n",
       " '研究生阅读试卷',\n",
       " '大学生阅读习题']"
      ]
     },
     "execution_count": 243,
     "metadata": {},
     "output_type": "execute_result"
    }
   ],
   "source": [
    "generate_n(create_grammar(student),\"student\",10)"
   ]
  },
  {
   "cell_type": "markdown",
   "metadata": {},
   "source": [
    "2. 使用新数据源完成语言模型的训练"
   ]
  },
  {
   "cell_type": "code",
   "execution_count": 128,
   "metadata": {},
   "outputs": [],
   "source": [
    "import pandas as pd"
   ]
  },
  {
   "cell_type": "code",
   "execution_count": 133,
   "metadata": {},
   "outputs": [
    {
     "data": {
      "text/html": [
       "<div>\n",
       "<style scoped>\n",
       "    .dataframe tbody tr th:only-of-type {\n",
       "        vertical-align: middle;\n",
       "    }\n",
       "\n",
       "    .dataframe tbody tr th {\n",
       "        vertical-align: top;\n",
       "    }\n",
       "\n",
       "    .dataframe thead th {\n",
       "        text-align: right;\n",
       "    }\n",
       "</style>\n",
       "<table border=\"1\" class=\"dataframe\">\n",
       "  <thead>\n",
       "    <tr style=\"text-align: right;\">\n",
       "      <th></th>\n",
       "      <th>id</th>\n",
       "      <th>link</th>\n",
       "      <th>name</th>\n",
       "      <th>comment</th>\n",
       "      <th>star</th>\n",
       "    </tr>\n",
       "  </thead>\n",
       "  <tbody>\n",
       "    <tr>\n",
       "      <th>0</th>\n",
       "      <td>1</td>\n",
       "      <td>https://movie.douban.com/subject/26363254/</td>\n",
       "      <td>战狼2</td>\n",
       "      <td>吴京意淫到了脑残的地步，看了恶心想吐</td>\n",
       "      <td>1</td>\n",
       "    </tr>\n",
       "    <tr>\n",
       "      <th>1</th>\n",
       "      <td>2</td>\n",
       "      <td>https://movie.douban.com/subject/26363254/</td>\n",
       "      <td>战狼2</td>\n",
       "      <td>首映礼看的。太恐怖了这个电影，不讲道理的，完全就是吴京在实现他这个小粉红的英雄梦。各种装备轮...</td>\n",
       "      <td>2</td>\n",
       "    </tr>\n",
       "    <tr>\n",
       "      <th>2</th>\n",
       "      <td>3</td>\n",
       "      <td>https://movie.douban.com/subject/26363254/</td>\n",
       "      <td>战狼2</td>\n",
       "      <td>吴京的炒作水平不输冯小刚，但小刚至少不会用主旋律来炒作…吴京让人看了不舒服，为了主旋律而主旋...</td>\n",
       "      <td>2</td>\n",
       "    </tr>\n",
       "    <tr>\n",
       "      <th>3</th>\n",
       "      <td>4</td>\n",
       "      <td>https://movie.douban.com/subject/26363254/</td>\n",
       "      <td>战狼2</td>\n",
       "      <td>凭良心说，好看到不像《战狼1》的续集，完虐《湄公河行动》。</td>\n",
       "      <td>4</td>\n",
       "    </tr>\n",
       "    <tr>\n",
       "      <th>4</th>\n",
       "      <td>5</td>\n",
       "      <td>https://movie.douban.com/subject/26363254/</td>\n",
       "      <td>战狼2</td>\n",
       "      <td>中二得很</td>\n",
       "      <td>1</td>\n",
       "    </tr>\n",
       "  </tbody>\n",
       "</table>\n",
       "</div>"
      ],
      "text/plain": [
       "  id                                        link name  \\\n",
       "0  1  https://movie.douban.com/subject/26363254/  战狼2   \n",
       "1  2  https://movie.douban.com/subject/26363254/  战狼2   \n",
       "2  3  https://movie.douban.com/subject/26363254/  战狼2   \n",
       "3  4  https://movie.douban.com/subject/26363254/  战狼2   \n",
       "4  5  https://movie.douban.com/subject/26363254/  战狼2   \n",
       "\n",
       "                                             comment star  \n",
       "0                                 吴京意淫到了脑残的地步，看了恶心想吐    1  \n",
       "1  首映礼看的。太恐怖了这个电影，不讲道理的，完全就是吴京在实现他这个小粉红的英雄梦。各种装备轮...    2  \n",
       "2  吴京的炒作水平不输冯小刚，但小刚至少不会用主旋律来炒作…吴京让人看了不舒服，为了主旋律而主旋...    2  \n",
       "3                      凭良心说，好看到不像《战狼1》的续集，完虐《湄公河行动》。    4  \n",
       "4                                               中二得很    1  "
      ]
     },
     "execution_count": 133,
     "metadata": {},
     "output_type": "execute_result"
    }
   ],
   "source": [
    "filename = \"movie_comments.csv\"\n",
    "movie_content = pd.read_csv(filename)\n",
    "movie_content.head()"
   ]
  },
  {
   "cell_type": "code",
   "execution_count": 136,
   "metadata": {},
   "outputs": [
    {
     "data": {
      "text/plain": [
       "261497"
      ]
     },
     "execution_count": 136,
     "metadata": {},
     "output_type": "execute_result"
    }
   ],
   "source": [
    "comments = movie_content[\"comment\"].tolist()\n",
    "len(comments)"
   ]
  },
  {
   "cell_type": "code",
   "execution_count": 178,
   "metadata": {},
   "outputs": [],
   "source": [
    "import re\n",
    "import jieba\n",
    "from collections import Counter\n",
    "import matplotlib.pyplot as plt"
   ]
  },
  {
   "cell_type": "code",
   "execution_count": 155,
   "metadata": {},
   "outputs": [
    {
     "name": "stdout",
     "output_type": "stream",
     "text": [
      "1.设定有点像好莱坞动作片那一套，男主的女人总立flag，不是消失就是疑似扑街。2.太极宗师后，半红不紫多年，吴京很厉害，靠战狼系列走出条自己的动作片路线：金链大哥片，糙汉の最爱。3.能看出007，碟中谍，史泰龙，斯坦森影子在。4.好莱坞团队对爆米花片总体质量提升，战狼2比第1部更紧凑了。7分。\n",
      "\n",
      "1设定有点像好莱坞动作片那一套男主的女人总立flag不是消失就是疑似扑街2太极宗师后半红不紫多年吴京很厉害靠战狼系列走出条自己的动作片路线金链大哥片糙汉の最爱3能看出007碟中谍史泰龙斯坦森影子在4好莱坞团队对爆米花片总体质量提升战狼2比第1部更紧凑了7分\n"
     ]
    }
   ],
   "source": [
    "#获得纯文本\n",
    "def tokens(string):\n",
    "    return \"\".join(re.findall(\"\\w+\",string))\n",
    "print(comments[120] + \"\\n\")\n",
    "print(tokens(comments[120]))"
   ]
  },
  {
   "cell_type": "code",
   "execution_count": 154,
   "metadata": {},
   "outputs": [],
   "source": [
    "#文本切词\n",
    "def cut(string):\n",
    "    return list(jieba.cut(string))"
   ]
  },
  {
   "cell_type": "code",
   "execution_count": 177,
   "metadata": {},
   "outputs": [
    {
     "data": {
      "text/plain": [
       "[('的', 328262),\n",
       " ('了', 102420),\n",
       " ('是', 73106),\n",
       " ('我', 50338),\n",
       " ('都', 36255),\n",
       " ('很', 34712),\n",
       " ('看', 34022),\n",
       " ('电影', 33675),\n",
       " ('也', 32065),\n",
       " ('和', 31290),\n",
       " ('在', 31245),\n",
       " ('不', 28435),\n",
       " ('有', 27939),\n",
       " ('就', 25685),\n",
       " ('人', 23909),\n",
       " ('好', 22858),\n",
       " ('啊', 20803),\n",
       " ('这', 17484),\n",
       " ('还', 17449),\n",
       " ('一个', 17343),\n",
       " ('你', 17282),\n",
       " ('还是', 16425),\n",
       " ('但', 15578),\n",
       " ('故事', 15010),\n",
       " ('没有', 14343),\n",
       " ('就是', 14007),\n",
       " ('喜欢', 13566),\n",
       " ('让', 13304),\n",
       " ('太', 12676),\n",
       " ('又', 11566),\n",
       " ('剧情', 11359),\n",
       " ('没', 10858),\n",
       " ('说', 10764),\n",
       " ('吧', 10747),\n",
       " ('他', 10675),\n",
       " ('不错', 10416),\n",
       " ('得', 10349),\n",
       " ('到', 10341),\n",
       " ('给', 10300),\n",
       " ('这个', 10058),\n",
       " ('上', 10054),\n",
       " ('被', 9939),\n",
       " ('对', 9824),\n",
       " ('最后', 9694),\n",
       " ('一部', 9693),\n",
       " ('片子', 9590),\n",
       " ('什么', 9571),\n",
       " ('能', 9532),\n",
       " ('与', 9168),\n",
       " ('多', 8977),\n",
       " ('可以', 8972),\n",
       " ('不是', 8811),\n",
       " ('最', 8669),\n",
       " ('觉得', 8626),\n",
       " ('中', 8446),\n",
       " ('导演', 8390),\n",
       " ('自己', 8354),\n",
       " ('拍', 8172),\n",
       " ('好看', 8085),\n",
       " ('要', 8081),\n",
       " ('真的', 7908),\n",
       " ('感觉', 7828),\n",
       " ('但是', 7723),\n",
       " ('里', 7655),\n",
       " ('那', 7503),\n",
       " ('有点', 7479),\n",
       " ('想', 7442),\n",
       " ('这部', 7433),\n",
       " ('会', 7429),\n",
       " ('去', 7295),\n",
       " ('把', 7151),\n",
       " ('着', 7058),\n",
       " ('这么', 6784),\n",
       " ('小', 6626),\n",
       " ('个', 6546),\n",
       " ('而', 6507),\n",
       " ('这样', 6471),\n",
       " ('真是', 6449),\n",
       " ('那么', 6431),\n",
       " ('这种', 6377),\n",
       " ('片', 6333),\n",
       " ('不过', 6292),\n",
       " ('挺', 6244),\n",
       " ('时候', 6216),\n",
       " ('更', 6143),\n",
       " ('比', 6094),\n",
       " ('却', 5990),\n",
       " ('爱', 5909),\n",
       " ('我们', 5875),\n",
       " ('大', 5773),\n",
       " ('像', 5704),\n",
       " ('虽然', 5633),\n",
       " ('演技', 5631),\n",
       " ('其实', 5573),\n",
       " ('看到', 5450),\n",
       " ('知道', 5384),\n",
       " ('再', 5352),\n",
       " ('演员', 5328),\n",
       " ('那个', 5123),\n",
       " ('真', 5119)]"
      ]
     },
     "execution_count": 177,
     "metadata": {},
     "output_type": "execute_result"
    }
   ],
   "source": [
    "#建立词-词频表\n",
    "TOKEN = []\n",
    "for line in comments:\n",
    "    line_clean =tokens(str(line)).strip()\n",
    "    if not line_clean: continue\n",
    "    TOKEN.extend(cut(line_clean))\n",
    "word_count = Counter(TOKEN)\n",
    "word_count.most_common(100)"
   ]
  },
  {
   "cell_type": "code",
   "execution_count": 182,
   "metadata": {},
   "outputs": [
    {
     "data": {
      "text/plain": [
       "[<matplotlib.lines.Line2D at 0x25fa81e4128>]"
      ]
     },
     "execution_count": 182,
     "metadata": {},
     "output_type": "execute_result"
    },
    {
     "data": {
      "image/png": "[encoded data removed]",
      "text/plain": [
       "<Figure size 432x288 with 1 Axes>"
      ]
     },
     "metadata": {
      "needs_background": "light"
     },
     "output_type": "display_data"
    }
   ],
   "source": [
    "#画图展示\n",
    "frequency = [f for w,f in word_count.most_common(100)]\n",
    "x = [i for i in range(len(frequency))]\n",
    "plt.plot(x,frequency)"
   ]
  },
  {
   "cell_type": "code",
   "execution_count": 185,
   "metadata": {},
   "outputs": [
    {
     "name": "stdout",
     "output_type": "stream",
     "text": [
      "['吴京', '意淫', '到', '了', '脑残', '的', '地步', '看', '了', '恶心']\n",
      "['吴京意淫', '意淫到', '到了', '了脑残', '脑残的', '的地步', '地步看', '看了', '了恶心', '恶心想']\n"
     ]
    }
   ],
   "source": [
    "#计算概率\n",
    "TOKEN_2_GRAM =[\"\".join(TOKEN[i:i+2]) for i in range(len(TOKEN[:-2]))]\n",
    "print(TOKEN[:10])\n",
    "print(TOKEN_2_GRAM[:10])"
   ]
  },
  {
   "cell_type": "code",
   "execution_count": 187,
   "metadata": {},
   "outputs": [
    {
     "data": {
      "text/plain": [
       "[('的电影', 8640),\n",
       " ('看的', 7106),\n",
       " ('都是', 6335),\n",
       " ('让人', 5284),\n",
       " ('的故事', 4709),\n",
       " ('看了', 4585),\n",
       " ('也是', 4408),\n",
       " ('的时候', 4398),\n",
       " ('的人', 4356),\n",
       " ('的是', 4348)]"
      ]
     },
     "execution_count": 187,
     "metadata": {},
     "output_type": "execute_result"
    }
   ],
   "source": [
    "word_count_2 = Counter(TOKEN_2_GRAM)\n",
    "word_count_2.most_common(10)"
   ]
  },
  {
   "cell_type": "code",
   "execution_count": 195,
   "metadata": {},
   "outputs": [
    {
     "name": "stdout",
     "output_type": "stream",
     "text": [
      "1.581182238824883e-05\n",
      "2.2270172377815255e-07\n"
     ]
    }
   ],
   "source": [
    "#计算概率\n",
    "def prob_2(word1,word2):\n",
    "    if word1 + word2 in word_count_2:\n",
    "        return word_count_2[word1 + word2]/len(TOKEN_2_GRAM)\n",
    "    else:\n",
    "        return 1/len(TOKEN_2_GRAM)\n",
    "print(prob_2(\"电影\",\"好看\"))\n",
    "print(prob_2(\"电影\",\"好丑\"))"
   ]
  },
  {
   "cell_type": "code",
   "execution_count": 197,
   "metadata": {},
   "outputs": [
    {
     "data": {
      "text/plain": [
       "2.916248197097121e-11"
      ]
     },
     "execution_count": 197,
     "metadata": {},
     "output_type": "execute_result"
    }
   ],
   "source": [
    "#计算一句话的概率\n",
    "def prob_sentence(sentence):\n",
    "    words = cut(sentence)\n",
    "    prob_sent = 1\n",
    "    for i,w in enumerate(words[:-1]):\n",
    "        next_ = words[i+1]\n",
    "        probability = prob_2(w,next_)\n",
    "        prob_sent *= probability\n",
    "    return prob_sent\n",
    "prob_sentence(\"女主角真漂亮\")"
   ]
  },
  {
   "cell_type": "code",
   "execution_count": 228,
   "metadata": {},
   "outputs": [
    {
     "data": {
      "text/plain": [
       "'帅哥 您好请问街舞了解一下么？ 生成概率是：4.719361351489784e-52'"
      ]
     },
     "execution_count": 228,
     "metadata": {},
     "output_type": "execute_result"
    }
   ],
   "source": [
    "#送入之前定义的语言模型中，判断文本的合理程度\n",
    "sentence = generate(create_grammar(salesmen),\"salesmen\",\"\") \n",
    "\"{} 生成概率是：{}\".format(sentence,prob_sentence(sentence))"
   ]
  },
  {
   "cell_type": "markdown",
   "metadata": {},
   "source": [
    "3. 获得最优质的的语言"
   ]
  },
  {
   "cell_type": "code",
   "execution_count": 250,
   "metadata": {},
   "outputs": [
    {
     "data": {
      "text/plain": [
       "['帅哥 您好打扰一下游泳 游泳 瑜伽 瑜伽体验一下么？',\n",
       " '美女 您好请问瑜伽 拉丁 街舞了解一下么？',\n",
       " '美女 您好请问瑜伽 游泳体验一下么？',\n",
       " '美女 您好打扰一下游泳体验一下么？',\n",
       " '帅哥 您好打扰一下游泳 游泳 瑜伽了解一下么？',\n",
       " '帅哥 您好打扰一下瑜伽体验一下么？',\n",
       " '大爷 您好打扰一下游泳体验一下么？',\n",
       " '美女 您好请问瑜伽了解一下么？',\n",
       " '美女 您好打扰一下瑜伽 瑜伽 游泳 瑜伽了解一下么？',\n",
       " '大爷 您好打扰一下瑜伽 游泳 瑜伽体验一下么？']"
      ]
     },
     "execution_count": 250,
     "metadata": {},
     "output_type": "execute_result"
    }
   ],
   "source": [
    "sentence_list = generate_n(gram=create_grammar(salesmen),target=\"salesmen\",num=10)\n",
    "sentence_list"
   ]
  },
  {
   "cell_type": "code",
   "execution_count": 264,
   "metadata": {},
   "outputs": [
    {
     "name": "stdout",
     "output_type": "stream",
     "text": [
      "可能性最高的语句是：帅哥 您好打扰一下游泳 游泳 瑜伽 瑜伽体验一下么？，生成概率为：1.972581361708231e-99\n"
     ]
    }
   ],
   "source": [
    "def generate_best(sentences):\n",
    "    prob_list = [prob_sentence(sent) for sent in sentences]\n",
    "    sent_prob = list(zip(sentences,prob_list))\n",
    "    sorted(sent_prob,key=lambda x: x[1], reverse=True)\n",
    "    best_sent = sent_prob[0]\n",
    "    print(\"可能性最高的语句是：{}，生成概率为：{}\".format(best_sent[0],best_sent[1]))\n",
    "generate_best(sentence_list)"
   ]
  },
  {
   "cell_type": "markdown",
   "metadata": {},
   "source": [
    "3.1 这个模型有什么问题，如何提升？\n",
    "Ans:迭代生成健身方式中会出现重复的选择（比如 瑜伽、瑜伽），需要去重（与课上所讲的数字拼接无需去重不一样的情景）\n",
    "   两个词的条件概率【prob_2】计算觉得怪怪的，P(w1|w2) = P(w1,w2)/P(w2),为啥句子生成概率最后就直接是所有二元词的联合概率累积?\n",
    "   尚不知道如何提升..."
   ]
  }
 ],
 "metadata": {
  "kernelspec": {
   "display_name": "Python 3",
   "language": "python",
   "name": "python3"
  },
  "language_info": {
   "codemirror_mode": {
    "name": "ipython",
    "version": 3
   },
   "file_extension": ".py",
   "mimetype": "text/x-python",
   "name": "python",
   "nbconvert_exporter": "python",
   "pygments_lexer": "ipython3",
   "version": "3.6.5"
  }
 },
 "nbformat": 4,
 "nbformat_minor": 2
}
